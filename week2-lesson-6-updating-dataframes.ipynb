{
 "cells": [
  {
   "cell_type": "markdown",
   "id": "8f33abbb-35a6-4379-8dc5-2646b0926155",
   "metadata": {},
   "source": [
    "# Updating data frames\n",
    "\n",
    "## Updating values in a dataframe\n",
    "\n",
    "Let's start by importing packages and data"
   ]
  },
  {
   "cell_type": "code",
   "execution_count": 1,
   "id": "2d2b281a-9678-4f16-8332-e512e030bee1",
   "metadata": {
    "tags": []
   },
   "outputs": [],
   "source": [
    "import numpy as np\n",
    "import pandas as pd\n",
    "import random # Used for randomly sampling integers\n",
    "\n",
    "# Set the seed\n",
    "random.seed(42)\n",
    "\n",
    "# Import data\n",
    "URL = 'https://raw.githubusercontent.com/allisonhorst/palmerpenguins/main/inst/extdata/penguins.csv'\n",
    "penguins = pd.read_csv(URL)"
   ]
  },
  {
   "cell_type": "code",
   "execution_count": 2,
   "id": "3762c903-38b1-47c7-9039-98cf86b36f35",
   "metadata": {
    "tags": []
   },
   "outputs": [
    {
     "name": "stdout",
     "output_type": "stream",
     "text": [
      "True\n"
     ]
    }
   ],
   "source": [
    "# Add column body mass in kg\n",
    "penguins['body_mass_kg'] = penguins['body_mass_g'] / 1000\n",
    "\n",
    "# Confirm the new column is in the data frame\n",
    "print('body_mass_kg' in penguins.columns)"
   ]
  },
  {
   "cell_type": "code",
   "execution_count": 3,
   "id": "e5bda1c1-4139-4f56-8879-1145d200d465",
   "metadata": {
    "tags": []
   },
   "outputs": [],
   "source": [
    "# Create random 3-digit codes\n",
    "codes = random.sample(range(100, 1000), len(penguins)) # Sampling w/o replacement"
   ]
  },
  {
   "cell_type": "code",
   "execution_count": 4,
   "id": "e148a9ed-575c-483c-91c3-742d2ccea6e9",
   "metadata": {
    "tags": []
   },
   "outputs": [
    {
     "data": {
      "text/html": [
       "<div>\n",
       "<style scoped>\n",
       "    .dataframe tbody tr th:only-of-type {\n",
       "        vertical-align: middle;\n",
       "    }\n",
       "\n",
       "    .dataframe tbody tr th {\n",
       "        vertical-align: top;\n",
       "    }\n",
       "\n",
       "    .dataframe thead th {\n",
       "        text-align: right;\n",
       "    }\n",
       "</style>\n",
       "<table border=\"1\" class=\"dataframe\">\n",
       "  <thead>\n",
       "    <tr style=\"text-align: right;\">\n",
       "      <th></th>\n",
       "      <th>id_code</th>\n",
       "      <th>species</th>\n",
       "      <th>island</th>\n",
       "      <th>bill_length_mm</th>\n",
       "      <th>bill_depth_mm</th>\n",
       "      <th>flipper_length_mm</th>\n",
       "      <th>body_mass_g</th>\n",
       "      <th>sex</th>\n",
       "      <th>year</th>\n",
       "      <th>body_mass_kg</th>\n",
       "    </tr>\n",
       "  </thead>\n",
       "  <tbody>\n",
       "    <tr>\n",
       "      <th>0</th>\n",
       "      <td>754</td>\n",
       "      <td>Adelie</td>\n",
       "      <td>Torgersen</td>\n",
       "      <td>39.1</td>\n",
       "      <td>18.7</td>\n",
       "      <td>181.0</td>\n",
       "      <td>3750.0</td>\n",
       "      <td>male</td>\n",
       "      <td>2007</td>\n",
       "      <td>3.75</td>\n",
       "    </tr>\n",
       "    <tr>\n",
       "      <th>1</th>\n",
       "      <td>214</td>\n",
       "      <td>Adelie</td>\n",
       "      <td>Torgersen</td>\n",
       "      <td>39.5</td>\n",
       "      <td>17.4</td>\n",
       "      <td>186.0</td>\n",
       "      <td>3800.0</td>\n",
       "      <td>female</td>\n",
       "      <td>2007</td>\n",
       "      <td>3.80</td>\n",
       "    </tr>\n",
       "    <tr>\n",
       "      <th>2</th>\n",
       "      <td>125</td>\n",
       "      <td>Adelie</td>\n",
       "      <td>Torgersen</td>\n",
       "      <td>40.3</td>\n",
       "      <td>18.0</td>\n",
       "      <td>195.0</td>\n",
       "      <td>3250.0</td>\n",
       "      <td>female</td>\n",
       "      <td>2007</td>\n",
       "      <td>3.25</td>\n",
       "    </tr>\n",
       "    <tr>\n",
       "      <th>3</th>\n",
       "      <td>859</td>\n",
       "      <td>Adelie</td>\n",
       "      <td>Torgersen</td>\n",
       "      <td>NaN</td>\n",
       "      <td>NaN</td>\n",
       "      <td>NaN</td>\n",
       "      <td>NaN</td>\n",
       "      <td>NaN</td>\n",
       "      <td>2007</td>\n",
       "      <td>NaN</td>\n",
       "    </tr>\n",
       "    <tr>\n",
       "      <th>4</th>\n",
       "      <td>381</td>\n",
       "      <td>Adelie</td>\n",
       "      <td>Torgersen</td>\n",
       "      <td>36.7</td>\n",
       "      <td>19.3</td>\n",
       "      <td>193.0</td>\n",
       "      <td>3450.0</td>\n",
       "      <td>female</td>\n",
       "      <td>2007</td>\n",
       "      <td>3.45</td>\n",
       "    </tr>\n",
       "  </tbody>\n",
       "</table>\n",
       "</div>"
      ],
      "text/plain": [
       "   id_code species     island  bill_length_mm  bill_depth_mm  \\\n",
       "0      754  Adelie  Torgersen            39.1           18.7   \n",
       "1      214  Adelie  Torgersen            39.5           17.4   \n",
       "2      125  Adelie  Torgersen            40.3           18.0   \n",
       "3      859  Adelie  Torgersen             NaN            NaN   \n",
       "4      381  Adelie  Torgersen            36.7           19.3   \n",
       "\n",
       "   flipper_length_mm  body_mass_g     sex  year  body_mass_kg  \n",
       "0              181.0       3750.0    male  2007          3.75  \n",
       "1              186.0       3800.0  female  2007          3.80  \n",
       "2              195.0       3250.0  female  2007          3.25  \n",
       "3                NaN          NaN     NaN  2007           NaN  \n",
       "4              193.0       3450.0  female  2007          3.45  "
      ]
     },
     "execution_count": 4,
     "metadata": {},
     "output_type": "execute_result"
    }
   ],
   "source": [
    "# Insert codes at the front of the data frame\n",
    "penguins.insert(loc = 0, # Index\n",
    "                column = 'id_code',\n",
    "                value = codes)\n",
    "penguins.head()"
   ]
  },
  {
   "cell_type": "markdown",
   "id": "ae96f424-9054-4457-bcac-2104999c11a8",
   "metadata": {},
   "source": [
    "## A Single Value\n",
    "\n",
    "Access a single value in a `pandas.DataFrame` using locators\n",
    "\n",
    "- `at[]` to select by labels, or\n",
    "- `iat[]` to select by index position.\n",
    "\n",
    "Syntax:\n",
    "```\n",
    "df.atp single_index_value, 'column_name']\n",
    "```\n",
    "\n",
    "* `at[]` equivalent of `loc[]` when accessing a single value*\n",
    "\n",
    "### Example"
   ]
  },
  {
   "cell_type": "code",
   "execution_count": 5,
   "id": "61998658-e770-40a4-89ad-a7a87401ced5",
   "metadata": {
    "tags": []
   },
   "outputs": [
    {
     "data": {
      "text/html": [
       "<div>\n",
       "<style scoped>\n",
       "    .dataframe tbody tr th:only-of-type {\n",
       "        vertical-align: middle;\n",
       "    }\n",
       "\n",
       "    .dataframe tbody tr th {\n",
       "        vertical-align: top;\n",
       "    }\n",
       "\n",
       "    .dataframe thead th {\n",
       "        text-align: right;\n",
       "    }\n",
       "</style>\n",
       "<table border=\"1\" class=\"dataframe\">\n",
       "  <thead>\n",
       "    <tr style=\"text-align: right;\">\n",
       "      <th></th>\n",
       "      <th>species</th>\n",
       "      <th>island</th>\n",
       "      <th>bill_length_mm</th>\n",
       "      <th>bill_depth_mm</th>\n",
       "      <th>flipper_length_mm</th>\n",
       "      <th>body_mass_g</th>\n",
       "      <th>sex</th>\n",
       "      <th>year</th>\n",
       "      <th>body_mass_kg</th>\n",
       "    </tr>\n",
       "    <tr>\n",
       "      <th>id_code</th>\n",
       "      <th></th>\n",
       "      <th></th>\n",
       "      <th></th>\n",
       "      <th></th>\n",
       "      <th></th>\n",
       "      <th></th>\n",
       "      <th></th>\n",
       "      <th></th>\n",
       "      <th></th>\n",
       "    </tr>\n",
       "  </thead>\n",
       "  <tbody>\n",
       "    <tr>\n",
       "      <th>754</th>\n",
       "      <td>Adelie</td>\n",
       "      <td>Torgersen</td>\n",
       "      <td>39.1</td>\n",
       "      <td>18.7</td>\n",
       "      <td>181.0</td>\n",
       "      <td>3750.0</td>\n",
       "      <td>male</td>\n",
       "      <td>2007</td>\n",
       "      <td>3.750</td>\n",
       "    </tr>\n",
       "    <tr>\n",
       "      <th>214</th>\n",
       "      <td>Adelie</td>\n",
       "      <td>Torgersen</td>\n",
       "      <td>39.5</td>\n",
       "      <td>17.4</td>\n",
       "      <td>186.0</td>\n",
       "      <td>3800.0</td>\n",
       "      <td>female</td>\n",
       "      <td>2007</td>\n",
       "      <td>3.800</td>\n",
       "    </tr>\n",
       "    <tr>\n",
       "      <th>125</th>\n",
       "      <td>Adelie</td>\n",
       "      <td>Torgersen</td>\n",
       "      <td>40.3</td>\n",
       "      <td>18.0</td>\n",
       "      <td>195.0</td>\n",
       "      <td>3250.0</td>\n",
       "      <td>female</td>\n",
       "      <td>2007</td>\n",
       "      <td>3.250</td>\n",
       "    </tr>\n",
       "    <tr>\n",
       "      <th>859</th>\n",
       "      <td>Adelie</td>\n",
       "      <td>Torgersen</td>\n",
       "      <td>NaN</td>\n",
       "      <td>NaN</td>\n",
       "      <td>NaN</td>\n",
       "      <td>NaN</td>\n",
       "      <td>NaN</td>\n",
       "      <td>2007</td>\n",
       "      <td>NaN</td>\n",
       "    </tr>\n",
       "    <tr>\n",
       "      <th>381</th>\n",
       "      <td>Adelie</td>\n",
       "      <td>Torgersen</td>\n",
       "      <td>36.7</td>\n",
       "      <td>19.3</td>\n",
       "      <td>193.0</td>\n",
       "      <td>3450.0</td>\n",
       "      <td>female</td>\n",
       "      <td>2007</td>\n",
       "      <td>3.450</td>\n",
       "    </tr>\n",
       "    <tr>\n",
       "      <th>...</th>\n",
       "      <td>...</td>\n",
       "      <td>...</td>\n",
       "      <td>...</td>\n",
       "      <td>...</td>\n",
       "      <td>...</td>\n",
       "      <td>...</td>\n",
       "      <td>...</td>\n",
       "      <td>...</td>\n",
       "      <td>...</td>\n",
       "    </tr>\n",
       "    <tr>\n",
       "      <th>140</th>\n",
       "      <td>Chinstrap</td>\n",
       "      <td>Dream</td>\n",
       "      <td>55.8</td>\n",
       "      <td>19.8</td>\n",
       "      <td>207.0</td>\n",
       "      <td>4000.0</td>\n",
       "      <td>male</td>\n",
       "      <td>2009</td>\n",
       "      <td>4.000</td>\n",
       "    </tr>\n",
       "    <tr>\n",
       "      <th>183</th>\n",
       "      <td>Chinstrap</td>\n",
       "      <td>Dream</td>\n",
       "      <td>43.5</td>\n",
       "      <td>18.1</td>\n",
       "      <td>202.0</td>\n",
       "      <td>3400.0</td>\n",
       "      <td>female</td>\n",
       "      <td>2009</td>\n",
       "      <td>3.400</td>\n",
       "    </tr>\n",
       "    <tr>\n",
       "      <th>969</th>\n",
       "      <td>Chinstrap</td>\n",
       "      <td>Dream</td>\n",
       "      <td>49.6</td>\n",
       "      <td>18.2</td>\n",
       "      <td>193.0</td>\n",
       "      <td>3775.0</td>\n",
       "      <td>male</td>\n",
       "      <td>2009</td>\n",
       "      <td>3.775</td>\n",
       "    </tr>\n",
       "    <tr>\n",
       "      <th>635</th>\n",
       "      <td>Chinstrap</td>\n",
       "      <td>Dream</td>\n",
       "      <td>50.8</td>\n",
       "      <td>19.0</td>\n",
       "      <td>210.0</td>\n",
       "      <td>4100.0</td>\n",
       "      <td>male</td>\n",
       "      <td>2009</td>\n",
       "      <td>4.100</td>\n",
       "    </tr>\n",
       "    <tr>\n",
       "      <th>883</th>\n",
       "      <td>Chinstrap</td>\n",
       "      <td>Dream</td>\n",
       "      <td>50.2</td>\n",
       "      <td>18.7</td>\n",
       "      <td>198.0</td>\n",
       "      <td>3775.0</td>\n",
       "      <td>female</td>\n",
       "      <td>2009</td>\n",
       "      <td>3.775</td>\n",
       "    </tr>\n",
       "  </tbody>\n",
       "</table>\n",
       "<p>344 rows × 9 columns</p>\n",
       "</div>"
      ],
      "text/plain": [
       "           species     island  bill_length_mm  bill_depth_mm  \\\n",
       "id_code                                                        \n",
       "754         Adelie  Torgersen            39.1           18.7   \n",
       "214         Adelie  Torgersen            39.5           17.4   \n",
       "125         Adelie  Torgersen            40.3           18.0   \n",
       "859         Adelie  Torgersen             NaN            NaN   \n",
       "381         Adelie  Torgersen            36.7           19.3   \n",
       "...            ...        ...             ...            ...   \n",
       "140      Chinstrap      Dream            55.8           19.8   \n",
       "183      Chinstrap      Dream            43.5           18.1   \n",
       "969      Chinstrap      Dream            49.6           18.2   \n",
       "635      Chinstrap      Dream            50.8           19.0   \n",
       "883      Chinstrap      Dream            50.2           18.7   \n",
       "\n",
       "         flipper_length_mm  body_mass_g     sex  year  body_mass_kg  \n",
       "id_code                                                              \n",
       "754                  181.0       3750.0    male  2007         3.750  \n",
       "214                  186.0       3800.0  female  2007         3.800  \n",
       "125                  195.0       3250.0  female  2007         3.250  \n",
       "859                    NaN          NaN     NaN  2007           NaN  \n",
       "381                  193.0       3450.0  female  2007         3.450  \n",
       "...                    ...          ...     ...   ...           ...  \n",
       "140                  207.0       4000.0    male  2009         4.000  \n",
       "183                  202.0       3400.0  female  2009         3.400  \n",
       "969                  193.0       3775.0    male  2009         3.775  \n",
       "635                  210.0       4100.0    male  2009         4.100  \n",
       "883                  198.0       3775.0  female  2009         3.775  \n",
       "\n",
       "[344 rows x 9 columns]"
      ]
     },
     "execution_count": 5,
     "metadata": {},
     "output_type": "execute_result"
    }
   ],
   "source": [
    "penguins = penguins.set_index('id_code')\n",
    "penguins"
   ]
  },
  {
   "cell_type": "markdown",
   "id": "a687cd07-6367-4fc7-87ca-d81eb8430f64",
   "metadata": {},
   "source": [
    "What was the bill length of the penguins with ID 677?"
   ]
  },
  {
   "cell_type": "code",
   "execution_count": 7,
   "id": "8dcca60b-808d-459a-ba2f-0454c3f4335a",
   "metadata": {
    "tags": []
   },
   "outputs": [
    {
     "data": {
      "text/plain": [
       "39.1"
      ]
     },
     "execution_count": 7,
     "metadata": {},
     "output_type": "execute_result"
    }
   ],
   "source": [
    "# Check bill length of penguin with ID 677\n",
    "penguins.at[754, 'bill_length_mm']"
   ]
  },
  {
   "cell_type": "code",
   "execution_count": 8,
   "id": "271e70ca-47da-4e7e-9e73-098f244dfb48",
   "metadata": {
    "tags": []
   },
   "outputs": [
    {
     "data": {
      "text/plain": [
       "38.2"
      ]
     },
     "execution_count": 8,
     "metadata": {},
     "output_type": "execute_result"
    }
   ],
   "source": [
    "# Check bill length of penguin with ID 127\n",
    "penguins.at[127, 'bill_length_mm']"
   ]
  },
  {
   "cell_type": "code",
   "execution_count": 9,
   "id": "ec5beee3-cff9-40fc-baad-63b31ee3714a",
   "metadata": {
    "tags": []
   },
   "outputs": [
    {
     "data": {
      "text/plain": [
       "species              Adelie\n",
       "island               Biscoe\n",
       "bill_length_mm         38.3\n",
       "bill_depth_mm          18.1\n",
       "flipper_length_mm     185.0\n",
       "body_mass_g          3950.0\n",
       "sex                    male\n",
       "year                   2007\n",
       "body_mass_kg           3.95\n",
       "Name: 127, dtype: object"
      ]
     },
     "execution_count": 9,
     "metadata": {},
     "output_type": "execute_result"
    }
   ],
   "source": [
    "# Check bill length of penguin with ID 127\n",
    "penguins.at[127, 'bill_length_mm'] = 38.3\n",
    "\n",
    "# Confirm value was updated\n",
    "penguins.loc[127]"
   ]
  },
  {
   "cell_type": "markdown",
   "id": "6381940d-818c-45a3-90eb-612e7e2e97a5",
   "metadata": {},
   "source": [
    "If we want to access or update a single value by index position we use `iat[]` locator:\n",
    "\n",
    "Syntax:\n",
    "```\n",
    "df.lat[index_integer_location, column_integer_location]\n",
    "```\n",
    "\n",
    "Dynamically get the location of a single column\n",
    "```\n",
    "df.columns.get_loc('column_name')\n",
    "```\n",
    "\n",
    "## Check-in\n",
    "a. Obtain the location of the `bill_length_mm` column programatically\n",
    "b. use `iat[]` to access the bill length for the penguin with ID 127 (you may have a different ID) and revert it back to NA. Confirm the changes in your favorite way."
   ]
  },
  {
   "cell_type": "code",
   "execution_count": 13,
   "id": "cafb59ca-909c-4d2d-8b03-22e8de0df8fb",
   "metadata": {
    "tags": []
   },
   "outputs": [],
   "source": [
    "# Set to NAN using iat\n",
    "bill_length_index = penguins.columns.get_loc('bill_length_mm')\n",
    "penguins.iat[3, bill_length_index] = np.nan"
   ]
  },
  {
   "cell_type": "code",
   "execution_count": 14,
   "id": "781766e4-a2f9-4be4-818c-8292470ab46d",
   "metadata": {
    "tags": []
   },
   "outputs": [
    {
     "data": {
      "text/plain": [
       "species                 Adelie\n",
       "island               Torgersen\n",
       "bill_length_mm             NaN\n",
       "bill_depth_mm              NaN\n",
       "flipper_length_mm          NaN\n",
       "body_mass_g                NaN\n",
       "sex                        NaN\n",
       "year                      2007\n",
       "body_mass_kg               NaN\n",
       "Name: 859, dtype: object"
      ]
     },
     "execution_count": 14,
     "metadata": {},
     "output_type": "execute_result"
    }
   ],
   "source": [
    "penguins.iat[3, bill_length_index] = 'NaN'\n",
    "penguins.iloc[3]"
   ]
  },
  {
   "cell_type": "code",
   "execution_count": 15,
   "id": "242fc595-b765-47c0-a33c-2194e15b4cbc",
   "metadata": {
    "tags": []
   },
   "outputs": [
    {
     "data": {
      "text/plain": [
       "float"
      ]
     },
     "execution_count": 15,
     "metadata": {},
     "output_type": "execute_result"
    }
   ],
   "source": [
    "type(np.nan)"
   ]
  },
  {
   "cell_type": "code",
   "execution_count": 16,
   "id": "e69d57a0-e188-4187-996f-52242f12ab12",
   "metadata": {
    "tags": []
   },
   "outputs": [
    {
     "data": {
      "text/plain": [
       "str"
      ]
     },
     "execution_count": 16,
     "metadata": {},
     "output_type": "execute_result"
    }
   ],
   "source": [
    "type('NaN')"
   ]
  },
  {
   "cell_type": "markdown",
   "id": "83bfa84c-b6c2-4a75-8401-34b5d1595809",
   "metadata": {},
   "source": [
    "## Multiple values in a column\n",
    "\n",
    "### Using a condition\n",
    "\n",
    "Example:\n",
    "\n",
    "We want to classify the Palmer penguins such that:\n",
    "\n",
    "- Penguins with body mass < 3kg are small\n",
    "- Penguins with 3kg <= body mass < 5kg are medium\n",
    "- penguins with 5kg < body mass are large"
   ]
  },
  {
   "cell_type": "code",
   "execution_count": 18,
   "id": "737fa2d1-d64f-4854-8fc7-ae4dff815c25",
   "metadata": {
    "tags": []
   },
   "outputs": [
    {
     "data": {
      "text/html": [
       "<div>\n",
       "<style scoped>\n",
       "    .dataframe tbody tr th:only-of-type {\n",
       "        vertical-align: middle;\n",
       "    }\n",
       "\n",
       "    .dataframe tbody tr th {\n",
       "        vertical-align: top;\n",
       "    }\n",
       "\n",
       "    .dataframe thead th {\n",
       "        text-align: right;\n",
       "    }\n",
       "</style>\n",
       "<table border=\"1\" class=\"dataframe\">\n",
       "  <thead>\n",
       "    <tr style=\"text-align: right;\">\n",
       "      <th></th>\n",
       "      <th>species</th>\n",
       "      <th>island</th>\n",
       "      <th>bill_length_mm</th>\n",
       "      <th>bill_depth_mm</th>\n",
       "      <th>flipper_length_mm</th>\n",
       "      <th>body_mass_g</th>\n",
       "      <th>sex</th>\n",
       "      <th>year</th>\n",
       "      <th>body_mass_kg</th>\n",
       "      <th>size</th>\n",
       "    </tr>\n",
       "    <tr>\n",
       "      <th>id_code</th>\n",
       "      <th></th>\n",
       "      <th></th>\n",
       "      <th></th>\n",
       "      <th></th>\n",
       "      <th></th>\n",
       "      <th></th>\n",
       "      <th></th>\n",
       "      <th></th>\n",
       "      <th></th>\n",
       "      <th></th>\n",
       "    </tr>\n",
       "  </thead>\n",
       "  <tbody>\n",
       "    <tr>\n",
       "      <th>754</th>\n",
       "      <td>Adelie</td>\n",
       "      <td>Torgersen</td>\n",
       "      <td>39.1</td>\n",
       "      <td>18.7</td>\n",
       "      <td>181.0</td>\n",
       "      <td>3750.0</td>\n",
       "      <td>male</td>\n",
       "      <td>2007</td>\n",
       "      <td>3.75</td>\n",
       "      <td>medium</td>\n",
       "    </tr>\n",
       "    <tr>\n",
       "      <th>214</th>\n",
       "      <td>Adelie</td>\n",
       "      <td>Torgersen</td>\n",
       "      <td>39.5</td>\n",
       "      <td>17.4</td>\n",
       "      <td>186.0</td>\n",
       "      <td>3800.0</td>\n",
       "      <td>female</td>\n",
       "      <td>2007</td>\n",
       "      <td>3.80</td>\n",
       "      <td>medium</td>\n",
       "    </tr>\n",
       "    <tr>\n",
       "      <th>125</th>\n",
       "      <td>Adelie</td>\n",
       "      <td>Torgersen</td>\n",
       "      <td>40.3</td>\n",
       "      <td>18.0</td>\n",
       "      <td>195.0</td>\n",
       "      <td>3250.0</td>\n",
       "      <td>female</td>\n",
       "      <td>2007</td>\n",
       "      <td>3.25</td>\n",
       "      <td>medium</td>\n",
       "    </tr>\n",
       "    <tr>\n",
       "      <th>859</th>\n",
       "      <td>Adelie</td>\n",
       "      <td>Torgersen</td>\n",
       "      <td>NaN</td>\n",
       "      <td>NaN</td>\n",
       "      <td>NaN</td>\n",
       "      <td>NaN</td>\n",
       "      <td>NaN</td>\n",
       "      <td>2007</td>\n",
       "      <td>NaN</td>\n",
       "      <td>nan</td>\n",
       "    </tr>\n",
       "    <tr>\n",
       "      <th>381</th>\n",
       "      <td>Adelie</td>\n",
       "      <td>Torgersen</td>\n",
       "      <td>36.7</td>\n",
       "      <td>19.3</td>\n",
       "      <td>193.0</td>\n",
       "      <td>3450.0</td>\n",
       "      <td>female</td>\n",
       "      <td>2007</td>\n",
       "      <td>3.45</td>\n",
       "      <td>medium</td>\n",
       "    </tr>\n",
       "  </tbody>\n",
       "</table>\n",
       "</div>"
      ],
      "text/plain": [
       "        species     island bill_length_mm  bill_depth_mm  flipper_length_mm  \\\n",
       "id_code                                                                       \n",
       "754      Adelie  Torgersen           39.1           18.7              181.0   \n",
       "214      Adelie  Torgersen           39.5           17.4              186.0   \n",
       "125      Adelie  Torgersen           40.3           18.0              195.0   \n",
       "859      Adelie  Torgersen            NaN            NaN                NaN   \n",
       "381      Adelie  Torgersen           36.7           19.3              193.0   \n",
       "\n",
       "         body_mass_g     sex  year  body_mass_kg    size  \n",
       "id_code                                                   \n",
       "754           3750.0    male  2007          3.75  medium  \n",
       "214           3800.0  female  2007          3.80  medium  \n",
       "125           3250.0  female  2007          3.25  medium  \n",
       "859              NaN     NaN  2007           NaN     nan  \n",
       "381           3450.0  female  2007          3.45  medium  "
      ]
     },
     "execution_count": 18,
     "metadata": {},
     "output_type": "execute_result"
    }
   ],
   "source": [
    "# Create a list with the conditions\n",
    "conditions = [penguins.body_mass_kg < 3,\n",
    "              (3 <= penguins.body_mass_kg) & (penguins.body_mass_kg < 5),\n",
    "              5 <= penguins.body_mass_kg]\n",
    "\n",
    "# Create a list with the choices\n",
    "choices = ['small',\n",
    "           'medium',\n",
    "           'large']\n",
    "\n",
    "# Add the selections using np.select\n",
    "penguins['size'] = np.select(conditions,\n",
    "                             choices,\n",
    "                             default = np.nan) # Value for anything outside conditions\n",
    "\n",
    "# Display updated dataframe\n",
    "penguins.head()"
   ]
  },
  {
   "cell_type": "markdown",
   "id": "a8508690-e6ba-414b-ad30-4b7871afd6ce",
   "metadata": {},
   "source": [
    "## Update values by selecting them\n",
    "\n",
    "We can do this with `loc` or `iloc` and assigning new values\n",
    "\n",
    "Syntax:\n",
    "```\n",
    "df.loc[ row_selection, column_names] = new_values\n",
    "```\n",
    "\n",
    "Using `loc[]` in assignment modifies the data frame directly with0ut the need for reassignment\n",
    "\n",
    "### Example\n",
    "\n",
    "Usdate the 'male' values in the sex column to 'M'"
   ]
  },
  {
   "cell_type": "code",
   "execution_count": 19,
   "id": "0d5aef63-bb12-4137-b9b4-aaf7448f2706",
   "metadata": {
    "tags": []
   },
   "outputs": [],
   "source": [
    "# Select row with sex = male and simplify values in 'sex' column\n",
    "penguins.loc[penguins.sex == 'male', 'sex'] = 'M'"
   ]
  },
  {
   "cell_type": "code",
   "execution_count": 21,
   "id": "d0f49363-f0d2-46c6-bf59-d3ace28b3188",
   "metadata": {
    "tags": []
   },
   "outputs": [
    {
     "name": "stdout",
     "output_type": "stream",
     "text": [
      "['M' 'female' nan]\n"
     ]
    }
   ],
   "source": [
    "# Check changes in 'sex' column\n",
    "print(penguins.sex.unique())"
   ]
  },
  {
   "cell_type": "markdown",
   "id": "ba7f19bd-3716-4236-8ab9-74973a5fdcb4",
   "metadata": {},
   "source": [
    "### Best practices\n",
    "\n",
    "We want to update the 'female' values in the 'sex' column to 'F'"
   ]
  },
  {
   "cell_type": "code",
   "execution_count": 23,
   "id": "6d2013d4-9099-44c4-a5ef-f0105de6811d",
   "metadata": {
    "tags": []
   },
   "outputs": [
    {
     "name": "stderr",
     "output_type": "stream",
     "text": [
      "/tmp/ipykernel_1051699/4189773950.py:2: SettingWithCopyWarning: \n",
      "A value is trying to be set on a copy of a slice from a DataFrame.\n",
      "Try using .loc[row_indexer,col_indexer] = value instead\n",
      "\n",
      "See the caveats in the documentation: https://pandas.pydata.org/pandas-docs/stable/user_guide/indexing.html#returning-a-view-versus-a-copy\n",
      "  penguins[penguins.sex == 'female']['sex'] = 'F'\n"
     ]
    }
   ],
   "source": [
    "# Select row where 'sex' is female and attempt to update to values\n",
    "penguins[penguins.sex == 'female']['sex'] = 'F' # Raises SettingWithCopyWarning"
   ]
  },
  {
   "cell_type": "markdown",
   "id": "d10c5f1d-68f3-43f7-b494-29e138ff00f6",
   "metadata": {},
   "source": [
    "**Avoid chained indexing** `[][]` and use `.loc[]` instead. This warning happens generally when we have chained indexing:\n",
    "```\n",
    "df[row_selection][column_selection] = new_value\n",
    "```\n",
    "\n",
    "## Check-in \n",
    "Update the 'female' values without the warning and check that the valuess were updated."
   ]
  },
  {
   "cell_type": "code",
   "execution_count": 24,
   "id": "9213f86c-22f8-4448-a372-7b0e8376547e",
   "metadata": {
    "tags": []
   },
   "outputs": [
    {
     "data": {
      "text/plain": [
       "array(['M', 'F', nan], dtype=object)"
      ]
     },
     "execution_count": 24,
     "metadata": {},
     "output_type": "execute_result"
    }
   ],
   "source": [
    "# Select rows with sex = female and simplify values in 'sex' column\n",
    "penguins.loc[penguins.sex == 'female', 'sex'] = 'F'\n",
    "\n",
    "penguins.sex.unique()"
   ]
  },
  {
   "cell_type": "markdown",
   "id": "020de75b-1d03-4913-81b6-45dcfcaa6771",
   "metadata": {},
   "source": [
    "This warning comes up because some `pandas` operations return a view, and others return a copy of your data.\n",
    "\n",
    "- **Views**: actual subsets of the original data, when we update them, we are modifying the original data frame.\n",
    "\n",
    "- **Copies**: unique objects, independent of our original data frames. When we update a copy we are not modifying the original data.\n",
    "\n",
    "## Example\n",
    "We only want to use data from Biscoe island, after doing some analyses, we want to add a new column."
   ]
  },
  {
   "cell_type": "code",
   "execution_count": 26,
   "id": "28175407-1c35-487e-9ff1-0ab6914ab8c2",
   "metadata": {
    "tags": []
   },
   "outputs": [
    {
     "name": "stderr",
     "output_type": "stream",
     "text": [
      "/tmp/ipykernel_1051699/627029751.py:7: SettingWithCopyWarning: \n",
      "A value is trying to be set on a copy of a slice from a DataFrame.\n",
      "Try using .loc[row_indexer,col_indexer] = value instead\n",
      "\n",
      "See the caveats in the documentation: https://pandas.pydata.org/pandas-docs/stable/user_guide/indexing.html#returning-a-view-versus-a-copy\n",
      "  biscoe['sample_column'] = 100\n"
     ]
    }
   ],
   "source": [
    "# Select penguins from Biscoe Island\n",
    "biscoe = penguins[penguins.island == 'Biscoe']\n",
    "\n",
    "# ... other analyses ...\n",
    "\n",
    "# Add a column\n",
    "biscoe['sample_column'] = 100"
   ]
  },
  {
   "cell_type": "markdown",
   "id": "1725c7e3-1980-4eb5-8e4f-61007343b355",
   "metadata": {},
   "source": [
    "We can also explicitely ask for a copy of a dataset when subsetting using the `copy()` method."
   ]
  },
  {
   "cell_type": "code",
   "execution_count": 27,
   "id": "02db82be-0042-49f8-a066-d2aec48a4c67",
   "metadata": {
    "tags": []
   },
   "outputs": [],
   "source": [
    "# Select penguins from Biscoe Island\n",
    "biscoe = penguins[penguins.island == 'Biscoe'].copy()\n",
    "\n",
    "# ... other analyses ...\n",
    "\n",
    "# Add a column\n",
    "biscoe['sample_column'] = 100"
   ]
  },
  {
   "cell_type": "code",
   "execution_count": 28,
   "id": "a6fa489d-ea61-42dd-876b-aa85dc004001",
   "metadata": {
    "tags": []
   },
   "outputs": [
    {
     "data": {
      "text/html": [
       "<div>\n",
       "<style scoped>\n",
       "    .dataframe tbody tr th:only-of-type {\n",
       "        vertical-align: middle;\n",
       "    }\n",
       "\n",
       "    .dataframe tbody tr th {\n",
       "        vertical-align: top;\n",
       "    }\n",
       "\n",
       "    .dataframe thead th {\n",
       "        text-align: right;\n",
       "    }\n",
       "</style>\n",
       "<table border=\"1\" class=\"dataframe\">\n",
       "  <thead>\n",
       "    <tr style=\"text-align: right;\">\n",
       "      <th></th>\n",
       "      <th>species</th>\n",
       "      <th>island</th>\n",
       "      <th>bill_length_mm</th>\n",
       "      <th>bill_depth_mm</th>\n",
       "      <th>flipper_length_mm</th>\n",
       "      <th>body_mass_g</th>\n",
       "      <th>sex</th>\n",
       "      <th>year</th>\n",
       "      <th>body_mass_kg</th>\n",
       "      <th>size</th>\n",
       "      <th>sample_column</th>\n",
       "    </tr>\n",
       "    <tr>\n",
       "      <th>id_code</th>\n",
       "      <th></th>\n",
       "      <th></th>\n",
       "      <th></th>\n",
       "      <th></th>\n",
       "      <th></th>\n",
       "      <th></th>\n",
       "      <th></th>\n",
       "      <th></th>\n",
       "      <th></th>\n",
       "      <th></th>\n",
       "      <th></th>\n",
       "    </tr>\n",
       "  </thead>\n",
       "  <tbody>\n",
       "    <tr>\n",
       "      <th>338</th>\n",
       "      <td>Adelie</td>\n",
       "      <td>Biscoe</td>\n",
       "      <td>37.8</td>\n",
       "      <td>18.3</td>\n",
       "      <td>174.0</td>\n",
       "      <td>3400.0</td>\n",
       "      <td>F</td>\n",
       "      <td>2007</td>\n",
       "      <td>3.40</td>\n",
       "      <td>medium</td>\n",
       "      <td>100</td>\n",
       "    </tr>\n",
       "    <tr>\n",
       "      <th>617</th>\n",
       "      <td>Adelie</td>\n",
       "      <td>Biscoe</td>\n",
       "      <td>37.7</td>\n",
       "      <td>18.7</td>\n",
       "      <td>180.0</td>\n",
       "      <td>3600.0</td>\n",
       "      <td>M</td>\n",
       "      <td>2007</td>\n",
       "      <td>3.60</td>\n",
       "      <td>medium</td>\n",
       "      <td>100</td>\n",
       "    </tr>\n",
       "    <tr>\n",
       "      <th>716</th>\n",
       "      <td>Adelie</td>\n",
       "      <td>Biscoe</td>\n",
       "      <td>35.9</td>\n",
       "      <td>19.2</td>\n",
       "      <td>189.0</td>\n",
       "      <td>3800.0</td>\n",
       "      <td>F</td>\n",
       "      <td>2007</td>\n",
       "      <td>3.80</td>\n",
       "      <td>medium</td>\n",
       "      <td>100</td>\n",
       "    </tr>\n",
       "    <tr>\n",
       "      <th>127</th>\n",
       "      <td>Adelie</td>\n",
       "      <td>Biscoe</td>\n",
       "      <td>38.3</td>\n",
       "      <td>18.1</td>\n",
       "      <td>185.0</td>\n",
       "      <td>3950.0</td>\n",
       "      <td>M</td>\n",
       "      <td>2007</td>\n",
       "      <td>3.95</td>\n",
       "      <td>medium</td>\n",
       "      <td>100</td>\n",
       "    </tr>\n",
       "    <tr>\n",
       "      <th>674</th>\n",
       "      <td>Adelie</td>\n",
       "      <td>Biscoe</td>\n",
       "      <td>38.8</td>\n",
       "      <td>17.2</td>\n",
       "      <td>180.0</td>\n",
       "      <td>3800.0</td>\n",
       "      <td>M</td>\n",
       "      <td>2007</td>\n",
       "      <td>3.80</td>\n",
       "      <td>medium</td>\n",
       "      <td>100</td>\n",
       "    </tr>\n",
       "  </tbody>\n",
       "</table>\n",
       "</div>"
      ],
      "text/plain": [
       "        species  island bill_length_mm  bill_depth_mm  flipper_length_mm  \\\n",
       "id_code                                                                    \n",
       "338      Adelie  Biscoe           37.8           18.3              174.0   \n",
       "617      Adelie  Biscoe           37.7           18.7              180.0   \n",
       "716      Adelie  Biscoe           35.9           19.2              189.0   \n",
       "127      Adelie  Biscoe           38.3           18.1              185.0   \n",
       "674      Adelie  Biscoe           38.8           17.2              180.0   \n",
       "\n",
       "         body_mass_g sex  year  body_mass_kg    size  sample_column  \n",
       "id_code                                                              \n",
       "338           3400.0   F  2007          3.40  medium            100  \n",
       "617           3600.0   M  2007          3.60  medium            100  \n",
       "716           3800.0   F  2007          3.80  medium            100  \n",
       "127           3950.0   M  2007          3.95  medium            100  \n",
       "674           3800.0   M  2007          3.80  medium            100  "
      ]
     },
     "execution_count": 28,
     "metadata": {},
     "output_type": "execute_result"
    }
   ],
   "source": [
    "biscoe.head()"
   ]
  },
  {
   "cell_type": "code",
   "execution_count": 29,
   "id": "c068b6f3-9b13-4def-a5d7-dacc0fcb8179",
   "metadata": {
    "tags": []
   },
   "outputs": [
    {
     "data": {
      "text/plain": [
       "False"
      ]
     },
     "execution_count": 29,
     "metadata": {},
     "output_type": "execute_result"
    }
   ],
   "source": [
    "'sample_column' in penguins.columns"
   ]
  }
 ],
 "metadata": {
  "kernelspec": {
   "display_name": "EDS220",
   "language": "python",
   "name": "eds220-env"
  },
  "language_info": {
   "codemirror_mode": {
    "name": "ipython",
    "version": 3
   },
   "file_extension": ".py",
   "mimetype": "text/x-python",
   "name": "python",
   "nbconvert_exporter": "python",
   "pygments_lexer": "ipython3",
   "version": "3.11.4"
  }
 },
 "nbformat": 4,
 "nbformat_minor": 5
}
