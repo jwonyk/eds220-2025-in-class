{
 "cells": [
  {
   "cell_type": "markdown",
   "id": "0d9a3124-e1c1-4512-8d9b-4bc6e242d19f",
   "metadata": {},
   "source": [
    "# Python Review\n",
    "\n",
    "Goals:\n",
    "- Recall basic Python vocabulary\n",
    "- Practice Markdown\n",
    "\n",
    "## Libraries and packages\n",
    "\n",
    "**library**: a collection of code that we can use to perform specific task in our programs.\n",
    "\n",
    "**NumPy**:\n",
    "- Core library for numerical computing in Python\n",
    "- Many other libraries use NumPy arrays as builing blocks\n",
    "- Computations on NumPy are optimized for speed and memory usage\n",
    "\n",
    "Let's import NumPy with **standard abbreiation**"
   ]
  },
  {
   "cell_type": "code",
   "execution_count": 1,
   "id": "d83fe95e-b36d-4a12-a07e-4e666a304d1a",
   "metadata": {
    "tags": []
   },
   "outputs": [],
   "source": [
    "import numpy as np"
   ]
  },
  {
   "cell_type": "markdown",
   "id": "d9df8657-156d-4514-84f9-40110aeddf6c",
   "metadata": {},
   "source": [
    "## Variables\n",
    "\n",
    "**variable**: A name we assign to a particular object in Python\n",
    "\n",
    "Example:"
   ]
  },
  {
   "cell_type": "code",
   "execution_count": 2,
   "id": "1f30bb52-f167-4e64-839d-8d7b58c30640",
   "metadata": {
    "tags": []
   },
   "outputs": [],
   "source": [
    "# Assign a small array to a variable a\n",
    "a = np.array([[1, 1, 2], [3, 5, 8]])"
   ]
  },
  {
   "cell_type": "code",
   "execution_count": 3,
   "id": "726140e0-86f2-4de2-82f3-14b06b33cc16",
   "metadata": {
    "tags": []
   },
   "outputs": [
    {
     "data": {
      "text/plain": [
       "array([[1, 1, 2],\n",
       "       [3, 5, 8]])"
      ]
     },
     "execution_count": 3,
     "metadata": {},
     "output_type": "execute_result"
    }
   ],
   "source": [
    "# Run Cell with the variable name to show value\n",
    "a"
   ]
  },
  {
   "cell_type": "code",
   "execution_count": 4,
   "id": "5791586d-70a7-476a-886c-61e9ad3ef81c",
   "metadata": {
    "tags": []
   },
   "outputs": [
    {
     "name": "stdout",
     "output_type": "stream",
     "text": [
      "[[1 1 2]\n",
      " [3 5 8]]\n"
     ]
    }
   ],
   "source": [
    "# Use 'print' function to print the value\n",
    "print(a)"
   ]
  },
  {
   "cell_type": "markdown",
   "id": "1c31b688-b684-418d-8440-dfda8d604596",
   "metadata": {},
   "source": [
    "## Objects\n",
    "\n",
    "**object** (informally speaking) is a bundle of *properties* and *actions* about something specific.\n",
    "\n",
    "Example:\n",
    "\n",
    "Object: Data frame\n",
    "\n",
    "Properties: Number rows, names of the columns, data created\n",
    "\n",
    "Actions: Selecting a specific row, adding a new column\n",
    "\n",
    "A variable is the name we give a specific object, and the same object can be referenced by different variables.\n",
    "\n",
    "In practice, we can often use variable and object interchangeably."
   ]
  }
 ],
 "metadata": {
  "kernelspec": {
   "display_name": "EDS220",
   "language": "python",
   "name": "eds220-env"
  },
  "language_info": {
   "codemirror_mode": {
    "name": "ipython",
    "version": 3
   },
   "file_extension": ".py",
   "mimetype": "text/x-python",
   "name": "python",
   "nbconvert_exporter": "python",
   "pygments_lexer": "ipython3",
   "version": "3.11.4"
  }
 },
 "nbformat": 4,
 "nbformat_minor": 5
}
