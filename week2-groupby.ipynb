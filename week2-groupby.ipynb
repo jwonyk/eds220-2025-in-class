{
 "cells": [
  {
   "cell_type": "markdown",
   "id": "a2d46dd1-f9a4-46f9-bb0c-879e701a728b",
   "metadata": {},
   "source": [
    "## Check-in\n",
    "Use the max() method for pandas.DataFrames to calculate the maximum value of a penguin’s body mass by year and species.\n",
    "Use (1) to display the highest body masses per year and species as a bar plot in descending order."
   ]
  },
  {
   "cell_type": "code",
   "execution_count": null,
   "id": "e8455f69-163e-4de8-a4ef-311f12589395",
   "metadata": {},
   "outputs": [],
   "source": [
    "import numpy as np\n",
    "import pandas as pd\n",
    "\n",
    "# Load Palmer penguins data\n",
    "URL = 'https://raw.githubusercontent.com/allisonhorst/palmerpenguins/main/inst/extdata/penguins.csv'\n",
    "penguins = pd.read_csv(URL)\n",
    "\n",
    "penguins.head()"
   ]
  },
  {
   "cell_type": "code",
   "execution_count": null,
   "id": "c4c12dac-31a6-4b0a-989b-2ccf545858d3",
   "metadata": {},
   "outputs": [],
   "source": []
  }
 ],
 "metadata": {
  "kernelspec": {
   "display_name": "EDS220",
   "language": "python",
   "name": "eds220-env"
  },
  "language_info": {
   "codemirror_mode": {
    "name": "ipython",
    "version": 3
   },
   "file_extension": ".py",
   "mimetype": "text/x-python",
   "name": "python",
   "nbconvert_exporter": "python",
   "pygments_lexer": "ipython3",
   "version": "3.11.4"
  }
 },
 "nbformat": 4,
 "nbformat_minor": 5
}
