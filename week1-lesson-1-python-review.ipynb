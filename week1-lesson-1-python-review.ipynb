{
 "cells": [
  {
   "cell_type": "markdown",
   "id": "0d9a3124-e1c1-4512-8d9b-4bc6e242d19f",
   "metadata": {},
   "source": [
    "# Python Review\n",
    "\n",
    "Goals:\n",
    "- Recall basic Python vocabulary\n",
    "- Practice Markdown\n",
    "\n",
    "## Libraries and packages\n",
    "\n",
    "**library**: a collection of code that we can use to perform specific task in our programs.\n",
    "\n",
    "**NumPy**:\n",
    "- Core library for numerical computing in Python\n",
    "- Many other libraries use NumPy arrays as builing blocks\n",
    "- Computations on NumPy are optimized for speed and memory usage\n",
    "\n",
    "Let's import NumPy with **standard abbreiation**"
   ]
  },
  {
   "cell_type": "code",
   "execution_count": 1,
   "id": "d83fe95e-b36d-4a12-a07e-4e666a304d1a",
   "metadata": {
    "tags": []
   },
   "outputs": [],
   "source": [
    "import numpy as np"
   ]
  },
  {
   "cell_type": "markdown",
   "id": "d9df8657-156d-4514-84f9-40110aeddf6c",
   "metadata": {},
   "source": [
    "## Variables\n",
    "\n",
    "**variable**: A name we assign to a particular object in Python\n",
    "\n",
    "Example:"
   ]
  },
  {
   "cell_type": "code",
   "execution_count": 2,
   "id": "1f30bb52-f167-4e64-839d-8d7b58c30640",
   "metadata": {
    "tags": []
   },
   "outputs": [],
   "source": [
    "# Assign a small array to a variable a\n",
    "a = np.array([[1, 1, 2], [3, 5, 8]])"
   ]
  },
  {
   "cell_type": "code",
   "execution_count": 3,
   "id": "726140e0-86f2-4de2-82f3-14b06b33cc16",
   "metadata": {
    "tags": []
   },
   "outputs": [
    {
     "data": {
      "text/plain": [
       "array([[1, 1, 2],\n",
       "       [3, 5, 8]])"
      ]
     },
     "execution_count": 3,
     "metadata": {},
     "output_type": "execute_result"
    }
   ],
   "source": [
    "# Run Cell with the variable name to show value\n",
    "a"
   ]
  },
  {
   "cell_type": "code",
   "execution_count": 4,
   "id": "5791586d-70a7-476a-886c-61e9ad3ef81c",
   "metadata": {
    "tags": []
   },
   "outputs": [
    {
     "name": "stdout",
     "output_type": "stream",
     "text": [
      "[[1 1 2]\n",
      " [3 5 8]]\n"
     ]
    }
   ],
   "source": [
    "# Use 'print' function to print the value\n",
    "print(a)"
   ]
  },
  {
   "cell_type": "markdown",
   "id": "1c31b688-b684-418d-8440-dfda8d604596",
   "metadata": {},
   "source": [
    "## Objects\n",
    "\n",
    "**object** (informally speaking) is a bundle of *properties* and *actions* about something specific.\n",
    "\n",
    "Example:\n",
    "\n",
    "Object: Data frame\n",
    "\n",
    "Properties: Number rows, names of the columns, data created\n",
    "\n",
    "Actions: Selecting a specific row, adding a new column\n",
    "\n",
    "A variable is the name we give a specific object, and the same object can be referenced by different variables.\n",
    "\n",
    "In practice, we can often use variable and object interchangeably.\n",
    "\n",
    "## Types\n",
    "\n",
    "Every object in Python has a **type**. The type tells us what kind of object it is.\n",
    "\n",
    "We can also call the type of an object, the **class** of an object and they both mean what kind of object we have."
   ]
  },
  {
   "cell_type": "code",
   "execution_count": 5,
   "id": "e505b211-4ee5-4591-8dc3-8d040d7394a8",
   "metadata": {
    "tags": []
   },
   "outputs": [
    {
     "name": "stdout",
     "output_type": "stream",
     "text": [
      "[[1 1 2]\n",
      " [3 5 8]]\n"
     ]
    },
    {
     "data": {
      "text/plain": [
       "numpy.ndarray"
      ]
     },
     "execution_count": 5,
     "metadata": {},
     "output_type": "execute_result"
    }
   ],
   "source": [
    "print(a)\n",
    "\n",
    "# Check the type / class of a variable / object by using `type` function\n",
    "type(a)"
   ]
  },
  {
   "cell_type": "code",
   "execution_count": 6,
   "id": "9a713eea-13e1-4768-9800-6cd571f1737b",
   "metadata": {
    "tags": []
   },
   "outputs": [
    {
     "name": "stdout",
     "output_type": "stream",
     "text": [
      "1\n"
     ]
    },
    {
     "data": {
      "text/plain": [
       "numpy.int64"
      ]
     },
     "execution_count": 6,
     "metadata": {},
     "output_type": "execute_result"
    }
   ],
   "source": [
    "print(a[0, 0])\n",
    "\n",
    "# Check the type on an entry on the array by indexing\n",
    "type(a[0, 0])"
   ]
  },
  {
   "cell_type": "markdown",
   "id": "823cacdb-f7be-4d89-83a0-d59042975af1",
   "metadata": {},
   "source": [
    "Notice that `type(a[0, 0])` is `numpy.int64` and not just the standard Python integer type. This is telling us that 1 is an integer stored as a 64-bit number."
   ]
  },
  {
   "cell_type": "code",
   "execution_count": 7,
   "id": "39a14c54-02a8-41f8-a338-8e14bb8e40b3",
   "metadata": {
    "tags": []
   },
   "outputs": [
    {
     "name": "stdout",
     "output_type": "stream",
     "text": [
      "5\n"
     ]
    }
   ],
   "source": [
    "print(a[1, 1])"
   ]
  },
  {
   "cell_type": "markdown",
   "id": "3ff89b3e-d9e6-407b-850b-70d05f5fc176",
   "metadata": {},
   "source": [
    "## Functions\n",
    "\n",
    "`print` was our first example of a Python **function**.\n",
    "\n",
    "Functions take in a set of **arguments** and those arguments create an **output**.\n",
    "\n",
    "argument = parameter.\n",
    "\n",
    "We can ask information about a function by executing `?function`"
   ]
  },
  {
   "cell_type": "code",
   "execution_count": 8,
   "id": "d1d7d849-a85f-4084-93ed-00e62bb19fa7",
   "metadata": {
    "tags": []
   },
   "outputs": [
    {
     "data": {
      "text/plain": [
       "\u001b[0;31mSignature:\u001b[0m \u001b[0mprint\u001b[0m\u001b[0;34m(\u001b[0m\u001b[0;34m*\u001b[0m\u001b[0margs\u001b[0m\u001b[0;34m,\u001b[0m \u001b[0msep\u001b[0m\u001b[0;34m=\u001b[0m\u001b[0;34m' '\u001b[0m\u001b[0;34m,\u001b[0m \u001b[0mend\u001b[0m\u001b[0;34m=\u001b[0m\u001b[0;34m'\\n'\u001b[0m\u001b[0;34m,\u001b[0m \u001b[0mfile\u001b[0m\u001b[0;34m=\u001b[0m\u001b[0;32mNone\u001b[0m\u001b[0;34m,\u001b[0m \u001b[0mflush\u001b[0m\u001b[0;34m=\u001b[0m\u001b[0;32mFalse\u001b[0m\u001b[0;34m)\u001b[0m\u001b[0;34m\u001b[0m\u001b[0;34m\u001b[0m\u001b[0m\n",
       "\u001b[0;31mDocstring:\u001b[0m\n",
       "Prints the values to a stream, or to sys.stdout by default.\n",
       "\n",
       "sep\n",
       "  string inserted between values, default a space.\n",
       "end\n",
       "  string appended after the last value, default a newline.\n",
       "file\n",
       "  a file-like object (stream); defaults to the current sys.stdout.\n",
       "flush\n",
       "  whether to forcibly flush the stream.\n",
       "\u001b[0;31mType:\u001b[0m      builtin_function_or_method"
      ]
     },
     "metadata": {},
     "output_type": "display_data"
    }
   ],
   "source": [
    "?print"
   ]
  },
  {
   "cell_type": "markdown",
   "id": "46a63aef-4963-4c16-83f2-90bd136bf44e",
   "metadata": {},
   "source": [
    "This information is a **docstring**.\n",
    "\n",
    "A function has two types of arguments.\n",
    "\n",
    "- **non-optional argument**: arugments *you* need to specify for the function to do something\n",
    "\n",
    "- **optional argument**: arguments that are pre-filled with a default value by the function. You can override them. Optional arguments appear inside the paraenthesis in the form `optional_argument = fault_value`"
   ]
  },
  {
   "cell_type": "code",
   "execution_count": 9,
   "id": "806a6f29-b5d2-4f2a-bc39-7513f447c215",
   "metadata": {
    "tags": []
   },
   "outputs": [
    {
     "name": "stdout",
     "output_type": "stream",
     "text": [
      "changing the default end argument :)"
     ]
    }
   ],
   "source": [
    "print('changing the default end argument', end = ' :)')"
   ]
  },
  {
   "cell_type": "markdown",
   "id": "4330229a-09dd-4832-9e3f-b874acc5de17",
   "metadata": {},
   "source": [
    "## Attributes & Methods\n",
    "\n",
    "An object in Python has attributes and methods.\n",
    "\n",
    "- **attribute**: a property of an object, some piece of information about it\n",
    "- **method**: a procedure associated with the object, an action where the main ingredient is the object.\n",
    "\n",
    "### Check-in\n",
    "\n",
    "Fish attriutes:\n",
    "\n",
    "- length, color, species\n",
    "- die(), bite(), swim()\n",
    "\n",
    "**Example**\n",
    "Attributes for `numpy.arrays`\n",
    "\n",
    "We can access a variable's attributes and methods by adding a period `.` at the end of the variable's name.\n",
    "\n",
    "`variable.method()` or `variable.attribute'"
   ]
  },
  {
   "cell_type": "code",
   "execution_count": 10,
   "id": "9b124e30-0726-4ef6-913e-ca2fc5cbb1af",
   "metadata": {
    "tags": []
   },
   "outputs": [
    {
     "data": {
      "text/plain": [
       "(2, 3)"
      ]
     },
     "execution_count": 10,
     "metadata": {},
     "output_type": "execute_result"
    }
   ],
   "source": [
    "a.shape"
   ]
  },
  {
   "cell_type": "code",
   "execution_count": 11,
   "id": "15194dd8-2c2b-495c-98c4-f795bd4a6f49",
   "metadata": {
    "tags": []
   },
   "outputs": [
    {
     "data": {
      "text/plain": [
       "tuple"
      ]
     },
     "execution_count": 11,
     "metadata": {},
     "output_type": "execute_result"
    }
   ],
   "source": [
    "type(a.shape)"
   ]
  },
  {
   "cell_type": "code",
   "execution_count": 12,
   "id": "0fafef0d-492d-4dd1-9c06-6fdf1dc08311",
   "metadata": {
    "tags": []
   },
   "outputs": [
    {
     "data": {
      "text/plain": [
       "array([1, 1, 2])"
      ]
     },
     "execution_count": 12,
     "metadata": {},
     "output_type": "execute_result"
    }
   ],
   "source": [
    "# Methods examples\n",
    "# min() returns the minimum value along a specified axis\n",
    "a.min(axis = 0)"
   ]
  },
  {
   "cell_type": "markdown",
   "id": "d5ced463-7aab-4555-847a-e6f87f6b49a9",
   "metadata": {
    "tags": []
   },
   "source": [
    "## Check-in\n",
    "\n",
    "We can also call the `min` method without any parameter:"
   ]
  },
  {
   "cell_type": "code",
   "execution_count": 14,
   "id": "7c747ce8-b7c7-4a72-afb8-775746844430",
   "metadata": {
    "tags": []
   },
   "outputs": [
    {
     "data": {
      "text/plain": [
       "1"
      ]
     },
     "execution_count": 14,
     "metadata": {},
     "output_type": "execute_result"
    }
   ],
   "source": [
    "a.min()"
   ]
  },
  {
   "cell_type": "markdown",
   "id": "1605dee0-67ab-4045-8754-e8f9c61cfa80",
   "metadata": {},
   "source": [
    "Remember: Methods are functions associated with an object. "
   ]
  },
  {
   "cell_type": "code",
   "execution_count": 15,
   "id": "b5527423-5d4f-4445-af71-42f4926fd697",
   "metadata": {
    "tags": []
   },
   "outputs": [
    {
     "data": {
      "text/plain": [
       "builtin_function_or_method"
      ]
     },
     "execution_count": 15,
     "metadata": {},
     "output_type": "execute_result"
    }
   ],
   "source": [
    "type(a.min)"
   ]
  },
  {
   "cell_type": "markdown",
   "id": "47c7628f-a3ed-4584-a27b-ed7c805a4dbf",
   "metadata": {},
   "source": [
    "## Exercise\n",
    "\n",
    "1. Read the `print` function help. What is the **type** of the argument `sep`? Is this a optional or non-optional argument? Why?\n",
    "\n",
    "2. Create two new variables, one with the integer value 77 and another one with the string 99.\n",
    "\n",
    "3. Use your variable to print `77%99%77` by changing the value of one of the optional arguments in `print`."
   ]
  },
  {
   "cell_type": "code",
   "execution_count": 17,
   "id": "bfc71319-b842-4c34-9309-db9c213129d0",
   "metadata": {
    "tags": []
   },
   "outputs": [
    {
     "name": "stdout",
     "output_type": "stream",
     "text": [
      "77%99%77\n"
     ]
    }
   ],
   "source": [
    "var77 = 77\n",
    "\n",
    "var99 = '99'\n",
    "\n",
    "print(var77, var99, var77, sep = '%')"
   ]
  },
  {
   "cell_type": "markdown",
   "id": "f471de91-f2d7-4d91-a6fd-87ee5e328352",
   "metadata": {},
   "source": [
    "## Check-in 1\n",
    "\n",
    "1. The integer number `-999` is often used to represent missing values. Create a pandas.Series named `s` with four integer values, two of which are `-999`. The index of this series should be the letters A through D.\n",
    "\n",
    "2. In the pandas.Series ?documentation, look for the method `mask()`. Use this method to update the series `s` so that the `-999` values are replaced by NA values. HINT: Check the first example in the method's documentation."
   ]
  },
  {
   "cell_type": "code",
   "execution_count": 14,
   "id": "b17b70ac-f0ed-4c33-b739-7bf94940a04e",
   "metadata": {
    "tags": []
   },
   "outputs": [
    {
     "name": "stdout",
     "output_type": "stream",
     "text": [
      "A     12\n",
      "B   -999\n",
      "C     45\n",
      "D   -999\n",
      "dtype: int64\n",
      "<class 'pandas.core.series.Series'>\n"
     ]
    }
   ],
   "source": [
    "# Import required libraries\n",
    "import pandas as pd\n",
    "import numpy as np\n",
    "\n",
    "# Create pandas.Series\n",
    "s = pd.Series([12, -999, 45, -999], index = ['A', 'B', 'C', 'D'])\n",
    "print(s)\n",
    "print(type(s))"
   ]
  },
  {
   "cell_type": "code",
   "execution_count": 15,
   "id": "ddac9337-4878-4a07-8424-84ee0e777660",
   "metadata": {
    "tags": []
   },
   "outputs": [
    {
     "data": {
      "text/plain": [
       "A     12\n",
       "B   -999\n",
       "C     45\n",
       "D   -999\n",
       "dtype: int64"
      ]
     },
     "execution_count": 15,
     "metadata": {},
     "output_type": "execute_result"
    }
   ],
   "source": [
    "s"
   ]
  },
  {
   "cell_type": "code",
   "execution_count": 18,
   "id": "cad47b0c-5ee6-4e8c-89eb-93c3c78e6936",
   "metadata": {
    "tags": []
   },
   "outputs": [],
   "source": [
    "s.mask(s == -999, inplace = True)"
   ]
  },
  {
   "cell_type": "code",
   "execution_count": 19,
   "id": "b1244150-57d7-4150-95ac-17e65e7a8eb4",
   "metadata": {
    "tags": []
   },
   "outputs": [
    {
     "data": {
      "text/plain": [
       "A    12.0\n",
       "B     NaN\n",
       "C    45.0\n",
       "D     NaN\n",
       "dtype: float64"
      ]
     },
     "execution_count": 19,
     "metadata": {},
     "output_type": "execute_result"
    }
   ],
   "source": [
    "s"
   ]
  },
  {
   "cell_type": "code",
   "execution_count": 7,
   "id": "9cdca2b7-2bd7-4c0d-8151-f71f8233e8e2",
   "metadata": {
    "tags": []
   },
   "outputs": [],
   "source": [
    "# Check `mask` documentation\n",
    "\n",
    "# Mask -999 values in s with default NaN value\n",
    "s = s.mask(s == -999)"
   ]
  },
  {
   "cell_type": "markdown",
   "id": "29f86c16-4bcf-40e3-baa6-ee4356e4e64e",
   "metadata": {},
   "source": [
    "## Check-in 2\n",
    "\n",
    "We can access the dataframe's column names via the `columns` attribute. Update the column names to C1 and C2 by updating this attribute."
   ]
  },
  {
   "cell_type": "code",
   "execution_count": 9,
   "id": "d3406125-3150-4934-af34-00cb7f0ad18c",
   "metadata": {
    "tags": []
   },
   "outputs": [
    {
     "data": {
      "text/html": [
       "<div>\n",
       "<style scoped>\n",
       "    .dataframe tbody tr th:only-of-type {\n",
       "        vertical-align: middle;\n",
       "    }\n",
       "\n",
       "    .dataframe tbody tr th {\n",
       "        vertical-align: top;\n",
       "    }\n",
       "\n",
       "    .dataframe thead th {\n",
       "        text-align: right;\n",
       "    }\n",
       "</style>\n",
       "<table border=\"1\" class=\"dataframe\">\n",
       "  <thead>\n",
       "    <tr style=\"text-align: right;\">\n",
       "      <th></th>\n",
       "      <th>col_name_1</th>\n",
       "      <th>col_name2</th>\n",
       "    </tr>\n",
       "  </thead>\n",
       "  <tbody>\n",
       "    <tr>\n",
       "      <th>0</th>\n",
       "      <td>0</td>\n",
       "      <td>3.1</td>\n",
       "    </tr>\n",
       "    <tr>\n",
       "      <th>1</th>\n",
       "      <td>1</td>\n",
       "      <td>3.2</td>\n",
       "    </tr>\n",
       "    <tr>\n",
       "      <th>2</th>\n",
       "      <td>2</td>\n",
       "      <td>3.3</td>\n",
       "    </tr>\n",
       "  </tbody>\n",
       "</table>\n",
       "</div>"
      ],
      "text/plain": [
       "   col_name_1  col_name2\n",
       "0           0        3.1\n",
       "1           1        3.2\n",
       "2           2        3.3"
      ]
     },
     "execution_count": 9,
     "metadata": {},
     "output_type": "execute_result"
    }
   ],
   "source": [
    "# Make dataframe\n",
    "\n",
    "d = {'col_name_1' : pd.Series(np.arange(3)),\n",
    "    'col_name2' : pd.Series([3.1, 3.2, 3.3])}\n",
    "\n",
    "df = pd.DataFrame(d)\n",
    "\n",
    "df"
   ]
  },
  {
   "cell_type": "code",
   "execution_count": 12,
   "id": "e48f7589-f8b0-48d1-8090-4cc7ed4d63e7",
   "metadata": {
    "tags": []
   },
   "outputs": [
    {
     "data": {
      "text/html": [
       "<div>\n",
       "<style scoped>\n",
       "    .dataframe tbody tr th:only-of-type {\n",
       "        vertical-align: middle;\n",
       "    }\n",
       "\n",
       "    .dataframe tbody tr th {\n",
       "        vertical-align: top;\n",
       "    }\n",
       "\n",
       "    .dataframe thead th {\n",
       "        text-align: right;\n",
       "    }\n",
       "</style>\n",
       "<table border=\"1\" class=\"dataframe\">\n",
       "  <thead>\n",
       "    <tr style=\"text-align: right;\">\n",
       "      <th></th>\n",
       "      <th>C1</th>\n",
       "      <th>C2</th>\n",
       "    </tr>\n",
       "  </thead>\n",
       "  <tbody>\n",
       "    <tr>\n",
       "      <th>0</th>\n",
       "      <td>0</td>\n",
       "      <td>3.1</td>\n",
       "    </tr>\n",
       "    <tr>\n",
       "      <th>1</th>\n",
       "      <td>1</td>\n",
       "      <td>3.2</td>\n",
       "    </tr>\n",
       "    <tr>\n",
       "      <th>2</th>\n",
       "      <td>2</td>\n",
       "      <td>3.3</td>\n",
       "    </tr>\n",
       "  </tbody>\n",
       "</table>\n",
       "</div>"
      ],
      "text/plain": [
       "   C1   C2\n",
       "0   0  3.1\n",
       "1   1  3.2\n",
       "2   2  3.3"
      ]
     },
     "execution_count": 12,
     "metadata": {},
     "output_type": "execute_result"
    }
   ],
   "source": [
    "# Use .columns attribute to rename columns\n",
    "df.columns = ['C1', 'C2']\n",
    "df"
   ]
  },
  {
   "cell_type": "code",
   "execution_count": null,
   "id": "6e73b1b9-012d-4935-9a71-06c6b735137b",
   "metadata": {},
   "outputs": [],
   "source": []
  }
 ],
 "metadata": {
  "kernelspec": {
   "display_name": "EDS220",
   "language": "python",
   "name": "eds220-env"
  },
  "language_info": {
   "codemirror_mode": {
    "name": "ipython",
    "version": 3
   },
   "file_extension": ".py",
   "mimetype": "text/x-python",
   "name": "python",
   "nbconvert_exporter": "python",
   "pygments_lexer": "ipython3",
   "version": "3.11.4"
  }
 },
 "nbformat": 4,
 "nbformat_minor": 5
}
